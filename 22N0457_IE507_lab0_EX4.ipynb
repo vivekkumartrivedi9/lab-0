{
  "nbformat": 4,
  "nbformat_minor": 0,
  "metadata": {
    "colab": {
      "name": "22N0457_IE507_lab0_EX4.ipynb",
      "provenance": [],
      "collapsed_sections": []
    },
    "kernelspec": {
      "name": "python3",
      "display_name": "Python 3"
    },
    "language_info": {
      "name": "python"
    }
  },
  "cells": [
    {
      "cell_type": "markdown",
      "source": [
        "$\\large{\\textbf{Exercise 4:}}$\n",
        "\n",
        "$\\min \\ -z_1 + z_2 - z_3 - 4z_4 \\\\ \\text{ s.t. } z_1\\geq -5, z_2 \\geq 2, \\\\  z_1 +z_2-z_3 + z_4 \\leq 8 \\\\ -z_1 - z_2 + z_3 - 2 z_4 \\leq 100, \\\\ z_1+z_2 + 2z_3+z_4 \\leq -11$.  "
      ],
      "metadata": {
        "id": "joy0FpbbJVbz"
      }
    },
    {
      "cell_type": "code",
      "source": [
        "!pip install -q pyomo"
      ],
      "metadata": {
        "id": "CvtXWeO9Kvu-",
        "colab": {
          "base_uri": "https://localhost:8080/"
        },
        "outputId": "d16c8714-10bc-46d3-a8f0-cda657b52b60"
      },
      "execution_count": 1,
      "outputs": [
        {
          "output_type": "stream",
          "name": "stdout",
          "text": [
            "\u001b[K     |████████████████████████████████| 9.6 MB 6.4 MB/s \n",
            "\u001b[K     |████████████████████████████████| 49 kB 5.4 MB/s \n",
            "\u001b[?25h"
          ]
        }
      ]
    },
    {
      "cell_type": "code",
      "source": [
        "from pyomo.environ import *"
      ],
      "metadata": {
        "id": "MFhI4ZxCK78i"
      },
      "execution_count": 2,
      "outputs": []
    },
    {
      "cell_type": "code",
      "source": [
        "#create a model\n",
        "model = ConcreteModel()"
      ],
      "metadata": {
        "id": "IduNvihPLDtp"
      },
      "execution_count": 3,
      "outputs": []
    },
    {
      "cell_type": "code",
      "source": [
        "#declare variable\n",
        "model.z1 = Var(domain = Reals)\n",
        "model.z2= Var(domain = Reals)\n",
        "model.z3 = Var(domain = Reals)\n",
        "model.z4 = Var(domain = Reals)\n"
      ],
      "metadata": {
        "id": "KIf1kf5eLPmB"
      },
      "execution_count": 4,
      "outputs": []
    },
    {
      "cell_type": "code",
      "source": [
        "#declare objective\n",
        "model.cost = Objective( expr = -1*model.z1 + 1*model.z2 - 1*model.z3 - 4*model.z4,sense = minimize)"
      ],
      "metadata": {
        "id": "av21P56rL5uY"
      },
      "execution_count": 5,
      "outputs": []
    },
    {
      "cell_type": "code",
      "source": [
        "#declare constraints\n",
        "model.const1 = Constraint(expr = 1*model.z1 >= -5)\n",
        "model.const2 = Constraint(expr = model.z2 >= 2)\n",
        "model.const3 = Constraint(expr =model.z1 + model.z2 - model.z3 + model.z4 <= 8)\n",
        "model.const4 = Constraint(expr = -1*model.z1 - 1*model.z2 + 1*model.z3 -2*model.z4 <= 100)\n",
        "model.const5 = Constraint(expr = 1*model.z1 + 1*model.z2 +2*model.z3 + 1*model.z4 <= -11)\n",
        "\n"
      ],
      "metadata": {
        "id": "Expfy29HMeRY"
      },
      "execution_count": 6,
      "outputs": []
    },
    {
      "cell_type": "code",
      "source": [
        "!apt-get install -y -qq glpk.utils"
      ],
      "metadata": {
        "id": "fONRfkhTOrSb",
        "colab": {
          "base_uri": "https://localhost:8080/"
        },
        "outputId": "2e19c14c-3c71-47f8-94fe-db5cb0ce63f3"
      },
      "execution_count": 7,
      "outputs": [
        {
          "output_type": "stream",
          "name": "stdout",
          "text": [
            "Selecting previously unselected package libsuitesparseconfig5:amd64.\n",
            "(Reading database ... 155673 files and directories currently installed.)\n",
            "Preparing to unpack .../libsuitesparseconfig5_1%3a5.1.2-2_amd64.deb ...\n",
            "Unpacking libsuitesparseconfig5:amd64 (1:5.1.2-2) ...\n",
            "Selecting previously unselected package libamd2:amd64.\n",
            "Preparing to unpack .../libamd2_1%3a5.1.2-2_amd64.deb ...\n",
            "Unpacking libamd2:amd64 (1:5.1.2-2) ...\n",
            "Selecting previously unselected package libcolamd2:amd64.\n",
            "Preparing to unpack .../libcolamd2_1%3a5.1.2-2_amd64.deb ...\n",
            "Unpacking libcolamd2:amd64 (1:5.1.2-2) ...\n",
            "Selecting previously unselected package libglpk40:amd64.\n",
            "Preparing to unpack .../libglpk40_4.65-1_amd64.deb ...\n",
            "Unpacking libglpk40:amd64 (4.65-1) ...\n",
            "Selecting previously unselected package glpk-utils.\n",
            "Preparing to unpack .../glpk-utils_4.65-1_amd64.deb ...\n",
            "Unpacking glpk-utils (4.65-1) ...\n",
            "Setting up libsuitesparseconfig5:amd64 (1:5.1.2-2) ...\n",
            "Setting up libcolamd2:amd64 (1:5.1.2-2) ...\n",
            "Setting up libamd2:amd64 (1:5.1.2-2) ...\n",
            "Setting up libglpk40:amd64 (4.65-1) ...\n",
            "Setting up glpk-utils (4.65-1) ...\n",
            "Processing triggers for libc-bin (2.27-3ubuntu1.3) ...\n",
            "Processing triggers for man-db (2.8.3-2ubuntu0.1) ...\n"
          ]
        }
      ]
    },
    {
      "cell_type": "code",
      "source": [
        "model.pprint()"
      ],
      "metadata": {
        "colab": {
          "base_uri": "https://localhost:8080/"
        },
        "id": "uq8M6vcAPWqp",
        "outputId": "1323ccc2-3b72-4812-ba18-222395f135a1"
      },
      "execution_count": 8,
      "outputs": [
        {
          "output_type": "stream",
          "name": "stdout",
          "text": [
            "4 Var Declarations\n",
            "    z1 : Size=1, Index=None\n",
            "        Key  : Lower : Value : Upper : Fixed : Stale : Domain\n",
            "        None :  None :  None :  None : False :  True :  Reals\n",
            "    z2 : Size=1, Index=None\n",
            "        Key  : Lower : Value : Upper : Fixed : Stale : Domain\n",
            "        None :  None :  None :  None : False :  True :  Reals\n",
            "    z3 : Size=1, Index=None\n",
            "        Key  : Lower : Value : Upper : Fixed : Stale : Domain\n",
            "        None :  None :  None :  None : False :  True :  Reals\n",
            "    z4 : Size=1, Index=None\n",
            "        Key  : Lower : Value : Upper : Fixed : Stale : Domain\n",
            "        None :  None :  None :  None : False :  True :  Reals\n",
            "\n",
            "1 Objective Declarations\n",
            "    cost : Size=1, Index=None, Active=True\n",
            "        Key  : Active : Sense    : Expression\n",
            "        None :   True : minimize : - z1 + z2 - z3 - 4*z4\n",
            "\n",
            "5 Constraint Declarations\n",
            "    const1 : Size=1, Index=None, Active=True\n",
            "        Key  : Lower : Body : Upper : Active\n",
            "        None :  -5.0 :   z1 :  +Inf :   True\n",
            "    const2 : Size=1, Index=None, Active=True\n",
            "        Key  : Lower : Body : Upper : Active\n",
            "        None :   2.0 :   z2 :  +Inf :   True\n",
            "    const3 : Size=1, Index=None, Active=True\n",
            "        Key  : Lower : Body              : Upper : Active\n",
            "        None :  -Inf : z1 + z2 - z3 + z4 :   8.0 :   True\n",
            "    const4 : Size=1, Index=None, Active=True\n",
            "        Key  : Lower : Body                  : Upper : Active\n",
            "        None :  -Inf : - z1 - z2 + z3 - 2*z4 : 100.0 :   True\n",
            "    const5 : Size=1, Index=None, Active=True\n",
            "        Key  : Lower : Body                : Upper : Active\n",
            "        None :  -Inf : z1 + z2 + 2*z3 + z4 : -11.0 :   True\n",
            "\n",
            "10 Declarations: z1 z2 z3 z4 cost const1 const2 const3 const4 const5\n"
          ]
        }
      ]
    },
    {
      "cell_type": "code",
      "source": [
        "SolverFactory('glpk',excutable = '/usr/bin/glpsol').solve(model).write()"
      ],
      "metadata": {
        "colab": {
          "base_uri": "https://localhost:8080/"
        },
        "id": "UzEV2bukPbsT",
        "outputId": "ac369d24-3bdb-4328-cbdf-0dc4de607912"
      },
      "execution_count": 9,
      "outputs": [
        {
          "output_type": "stream",
          "name": "stdout",
          "text": [
            "# ==========================================================\n",
            "# = Solver Results                                         =\n",
            "# ==========================================================\n",
            "# ----------------------------------------------------------\n",
            "#   Problem Information\n",
            "# ----------------------------------------------------------\n",
            "Problem: \n",
            "- Name: unknown\n",
            "  Lower bound: -5.33333333333333\n",
            "  Upper bound: -5.33333333333333\n",
            "  Number of objectives: 1\n",
            "  Number of constraints: 6\n",
            "  Number of variables: 5\n",
            "  Number of nonzeros: 15\n",
            "  Sense: minimize\n",
            "# ----------------------------------------------------------\n",
            "#   Solver Information\n",
            "# ----------------------------------------------------------\n",
            "Solver: \n",
            "- Status: ok\n",
            "  Termination condition: optimal\n",
            "  Statistics: \n",
            "    Branch and bound: \n",
            "      Number of bounded subproblems: 0\n",
            "      Number of created subproblems: 0\n",
            "  Error rc: 0\n",
            "  Time: 0.014966487884521484\n",
            "# ----------------------------------------------------------\n",
            "#   Solution Information\n",
            "# ----------------------------------------------------------\n",
            "Solution: \n",
            "- number of solutions: 0\n",
            "  number of solutions displayed: 0\n"
          ]
        }
      ]
    },
    {
      "cell_type": "code",
      "source": [
        "print('\\ncost = ', model.cost())\n",
        "print('\\nDecision Variables')\n",
        "print('z1 = ', model.z1())\n",
        "print('z2 = ', model.z2())\n",
        "print('z3 = ', model.z3())\n",
        "print('z4 = ', model.z4())\n",
        "print('\\nconstraints')\n",
        "print('consraint 1 = ', model.const1())\n",
        "print('consraint 2 = ', model.const2())\n",
        "print('consraint 3 = ', model.const3())\n",
        "print('consraint 4 = ', model.const4())\n",
        "print('consraint 5 = ', model.const5())\n"
      ],
      "metadata": {
        "colab": {
          "base_uri": "https://localhost:8080/"
        },
        "id": "wF4yuyroXUiE",
        "outputId": "98eed4e4-7ea2-4bd9-b401-614d84509e63"
      },
      "execution_count": 10,
      "outputs": [
        {
          "output_type": "stream",
          "name": "stdout",
          "text": [
            "\n",
            "cost =  -5.333333333333348\n",
            "\n",
            "Decision Variables\n",
            "z1 =  -5.0\n",
            "z2 =  2.0\n",
            "z3 =  -6.33333333333333\n",
            "z4 =  4.66666666666667\n",
            "\n",
            "constraints\n",
            "consraint 1 =  -5.0\n",
            "consraint 2 =  2.0\n",
            "consraint 3 =  8.0\n",
            "consraint 4 =  -12.66666666666667\n",
            "consraint 5 =  -10.999999999999991\n"
          ]
        }
      ]
    },
    {
      "cell_type": "markdown",
      "source": [
        "$\\large{\\textbf{observation:}}$\n",
        "\n",
        "minimum value of objective is -5.33333333333\n",
        "we get this value at \n",
        "\n",
        "  z1 = -5.0 \n",
        "\n",
        "  z2 =2.0  \n",
        "\n",
        "  z3 = -6.3333333   and \n",
        "  \n",
        "  z4 = 4.66666666666"
      ],
      "metadata": {
        "id": "pp58zuj3c9ev"
      }
    }
  ]
}